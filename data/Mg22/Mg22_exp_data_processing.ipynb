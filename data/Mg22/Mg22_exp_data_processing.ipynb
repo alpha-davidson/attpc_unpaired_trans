{
 "cells": [
  {
   "cell_type": "markdown",
   "id": "5233434b-eb97-43c9-94b3-7cd9ce067089",
   "metadata": {},
   "source": [
    "# Background\n",
    "\n",
    "The experiments record the trajectories (a series of x,y,z coordinates, with associated amplitude of each point) of products resulting from collision/reaction between Mg22 and alpha particles in ATTPC."
   ]
  },
  {
   "cell_type": "markdown",
   "id": "3dff6f4f-9652-4e0d-b480-4d1a35b52afc",
   "metadata": {},
   "source": [
    "# User-Desired Settings"
   ]
  },
  {
   "cell_type": "markdown",
   "id": "48a9ba78-ea1d-4468-87da-34a4095d1934",
   "metadata": {},
   "source": [
    "The isotope used in this experiment is Mg22."
   ]
  },
  {
   "cell_type": "code",
   "execution_count": null,
   "id": "385514b9-992a-492e-9879-6ac1be5bfa2f",
   "metadata": {},
   "outputs": [],
   "source": [
    "ISOTOPE = 'Mg22'"
   ]
  },
  {
   "cell_type": "markdown",
   "id": "a2fdf0f4-833d-4cbb-8b5a-015db0714435",
   "metadata": {},
   "source": [
    "For each point, high amplitude (of voltage?) suggests high quality, whereas low amplitude suggests the detection may result from noise. We set the lowest amplitude for the point to be incorporated into our analysis as 50."
   ]
  },
  {
   "cell_type": "code",
   "execution_count": null,
   "id": "f1712c4d-8629-4618-a5b7-1c6e1f2c3432",
   "metadata": {},
   "outputs": [],
   "source": [
    "amp_threshold = 50"
   ]
  },
  {
   "cell_type": "markdown",
   "id": "26b2900a-c653-4032-8698-c742d50d4a93",
   "metadata": {},
   "source": [
    "The neural network model requires a fixed number of inputs. Whereas the actual events comprise different number of points, we will select exactly 512 points (may be redundant) as final inputs of each event."
   ]
  },
  {
   "cell_type": "code",
   "execution_count": null,
   "id": "3d9205a4-0dd6-44b8-8cff-ba30ab9d8dbf",
   "metadata": {},
   "outputs": [],
   "source": [
    "sample_size = 256"
   ]
  },
  {
   "cell_type": "markdown",
   "id": "7590054b-4a48-44fd-bfe0-38cbd10920b8",
   "metadata": {},
   "source": [
    "We create a folder named \"test\" to store the outputs."
   ]
  },
  {
   "cell_type": "code",
   "execution_count": null,
   "id": "4065442c-fde6-45b0-95d8-7ff895373708",
   "metadata": {},
   "outputs": [],
   "source": [
    "dir_name = './'"
   ]
  },
  {
   "cell_type": "markdown",
   "id": "3e437c19-0e9e-4ee9-b1fa-3552baa4c7b4",
   "metadata": {},
   "source": [
    "# Data Processing"
   ]
  },
  {
   "cell_type": "markdown",
   "id": "c574ab67-863a-42ce-b870-d90e0d93b16c",
   "metadata": {},
   "source": [
    "## Import Libraries"
   ]
  },
  {
   "cell_type": "code",
   "execution_count": null,
   "id": "7bd2836c-1603-4db7-9e1e-e7a7cc96c053",
   "metadata": {},
   "outputs": [],
   "source": [
    "import h5py\n",
    "import numpy as np\n",
    "import tqdm\n",
    "import math\n",
    "import random\n",
    "import matplotlib.pyplot as plt\n",
    "import matplotlib.patches as patches\n",
    "from matplotlib.colors import LogNorm\n",
    "from mpl_toolkits import mplot3d"
   ]
  },
  {
   "cell_type": "markdown",
   "id": "9a9a257c-8732-4f75-9176-a17c9b242dc9",
   "metadata": {},
   "source": [
    "## Import Data\n",
    "This file comprises 4330 events. \\\n",
    "Each event comprises 353-1852 points. \\\n",
    "Each point has 12 entries: x[0], y[1], z[2], time[3], amplitude[4], particleID[5], pointID[6], energy[7] ,energy loss[8], angle[9], mass[10], atomic number[11]. \\\n",
    "The only meaningful entries are x[0], y[1], z[2], amplitude[4]."
   ]
  },
  {
   "cell_type": "code",
   "execution_count": null,
   "id": "2f8f1017-0f6e-4423-99dc-703cabf9f844",
   "metadata": {},
   "outputs": [],
   "source": [
    "path = dir_name + 'Ar46_Exp_short.h5'\n",
    "file = h5py.File(path, 'r')\n",
    "file = file\n",
    "event_ids = list(file.keys())"
   ]
  },
  {
   "cell_type": "markdown",
   "id": "9f87ccb9-76ea-4e61-87d9-ca2f4a8740d0",
   "metadata": {},
   "source": [
    "Make a 1d array of event lengths (number of points in each event)."
   ]
  },
  {
   "cell_type": "code",
   "execution_count": null,
   "id": "63f0c5db-d748-4d08-8713-769c3968b9ae",
   "metadata": {},
   "outputs": [],
   "source": [
    "num_of_event = len(event_ids) # 4330\n",
    "ev_lens = np.zeros(num_of_event, int)\n",
    "for i in range(num_of_event):\n",
    "    event_id = event_ids[i]\n",
    "    event = file[event_id]\n",
    "    ev_lens[i] = len(file[event_id])\n",
    "\n",
    "evlen_path = dir_name + ISOTOPE + '_exp_A0_ev_lens'\n",
    "np.save(evlen_path, ev_lens)"
   ]
  },
  {
   "cell_type": "markdown",
   "id": "26992d25-9a45-4001-93e5-8cc5e0fb7b07",
   "metadata": {},
   "source": [
    "Make a 3d array of data.\\\n",
    "axis 0 (size 4330): events \\\n",
    "axis 1 (size 1852): points within each event\\\n",
    "axis 2 (size 4): x[0], y[1], z[2], amplitude[3] of each point"
   ]
  },
  {
   "cell_type": "code",
   "execution_count": null,
   "id": "5037b61c-458e-4bde-a7a7-4c3fd8b02696",
   "metadata": {},
   "outputs": [],
   "source": [
    "max_ev_len = np.max(ev_lens)  # 1852\n",
    "data = np.zeros((num_of_event, max_ev_len, 4), float) \n",
    "for n in tqdm.tqdm(range(num_of_event)):\n",
    "    event_id = event_ids[n]\n",
    "    event = file[event_id]\n",
    "    #converting event into an array\n",
    "    for i,e in enumerate(event):\n",
    "        instant = np.array(list(e))\n",
    "        data[n][i][0:3] = np.array(instant[0:3]) # x,y,z\n",
    "        data[n][i][3] = np.array(instant[4]) # amplitude\n",
    "\n",
    "data_path = dir_name + ISOTOPE + '_exp_A0_XYZC'  \n",
    "np.save(data_path, data)"
   ]
  },
  {
   "cell_type": "markdown",
   "id": "b022e192-5931-4a93-bb33-3b90566f500d",
   "metadata": {},
   "source": [
    "When running this notebook the second time, simply reload the data (instead of spending 10 min to repeat the step above)."
   ]
  },
  {
   "cell_type": "code",
   "execution_count": null,
   "id": "465de298-74ba-4870-bb40-017eb4b0f73c",
   "metadata": {},
   "outputs": [],
   "source": [
    "evlen_path = dir_name + ISOTOPE + '_exp_A0_ev_lens.npy'\n",
    "data_path = dir_name + ISOTOPE + '_exp_A0_XYZC.npy'\n",
    "ev_lens = np.load(evlen_path)\n",
    "data = np.load(data_path)\n",
    "num_of_event = len(data)\n",
    "max_ev_len = len(data[0])"
   ]
  },
  {
   "cell_type": "code",
   "execution_count": null,
   "id": "1f066f72-fec0-413f-8627-4ff1d4dba253",
   "metadata": {},
   "outputs": [],
   "source": [
    "null_ind = np.zeros(num_of_event, int)\n",
    "nullInd_path = dir_name + ISOTOPE + '_exp_nullInd'\n",
    "np.save(nullInd_path, null_ind)"
   ]
  },
  {
   "cell_type": "markdown",
   "id": "2f00de91-0eab-4ba2-a51e-81a17ca21f7e",
   "metadata": {},
   "source": [
    "### Plot distributions"
   ]
  },
  {
   "cell_type": "code",
   "execution_count": null,
   "id": "eae91bbb-2a7f-4d0a-8150-ba0518ed1d1c",
   "metadata": {},
   "outputs": [],
   "source": [
    "count = 0\n",
    "for i in range(num_of_event):\n",
    "    count = count + ev_lens[i]\n",
    "    \n",
    "x_data = np.zeros(count, float)\n",
    "y_data = np.zeros(count, float)\n",
    "a_data = np.zeros(count, float)\n",
    "count = 0\n",
    "for i in range(num_of_event):\n",
    "    for j in range(ev_lens[i]):\n",
    "        x_data[count] = data[i][j][0]\n",
    "        y_data[count] = data[i][j][1]\n",
    "        a_data[count] = data[i][j][3]\n",
    "        count += 1\n",
    "\n",
    "plt.figure(figsize=(6, 5))\n",
    "plt.hist2d(x_data, y_data, bins=(100,100), range=[[-300, 300], [-300, 300]], norm=LogNorm())\n",
    "plt.xlabel('x')\n",
    "plt.ylabel('y')\n",
    "# plt.ylim([-20, 150])\n",
    "# plt.xlim([-150, 20])\n",
    "plt.title('Distribution of (x, y)')\n",
    "plt.colorbar()\n",
    "plt.show()\n",
    "\n",
    "plt.figure(figsize=(6, 3))\n",
    "plt.hist(a_data, density=True, bins=100)\n",
    "plt.ylabel('count')\n",
    "plt.xlabel('amplitude')\n",
    "# plt.ylim([0, 0.005])\n",
    "# plt.xlim([0, 1500])\n",
    "plt.title('Distribution of Amplitude')\n",
    "plt.show()"
   ]
  },
  {
   "cell_type": "markdown",
   "id": "051a4a07-15dc-485e-8274-6a3f9df20fff",
   "metadata": {},
   "source": [
    "### Plot Events"
   ]
  },
  {
   "cell_type": "markdown",
   "id": "45a6b334-2214-453d-86fb-eb85c230a37c",
   "metadata": {},
   "source": [
    "This plotting function is used for four datasets in this notebook: \\\n",
    "mode = 0: raw data\\\n",
    "mode = 1: null vs no-null data\\\n",
    "mode = 2: no-null data"
   ]
  },
  {
   "cell_type": "code",
   "execution_count": null,
   "id": "36fbf753-f480-465d-b3a8-e365dd41b3b7",
   "metadata": {},
   "outputs": [],
   "source": [
    "palette = ['k', 'c']\n",
    "def plot_events(evlen_path, data_path, nullInd_path, amp_threshold, mode, rows):\n",
    "    ev_lens = np.load(evlen_path)\n",
    "    data =  np.load(data_path) \n",
    "    null_inds = np.load(nullInd_path)\n",
    "    \n",
    "    fig = plt.figure(figsize=(17,rows*4))\n",
    "    \n",
    "    for n in range(rows*5):\n",
    "        ax = fig.add_subplot(rows, 5, n+1, projection='3d')\n",
    "        ev_len = ev_lens[n]\n",
    "        evt = data[n,:ev_len,:]\n",
    "\n",
    "        pt_count = 0\n",
    "        wedge_pt_count = 0\n",
    "        \n",
    "        for i,e in enumerate(evt):\n",
    "            x = e[0] #get x value of point\n",
    "            y = e[1] #get y value of point\n",
    "            z = e[2] #get z value of point\n",
    "            a = e[3] #get amplitude of point\n",
    "            if mode == 0:\n",
    "                if a >= amp_threshold:\n",
    "                    color = palette[0]\n",
    "                    pt_count += 1\n",
    "                    if (-130 < x < 10 and -10 < y < 130 and (-x/3) < y < (-3*x)):\n",
    "                        wedge_pt_count += 1\n",
    "                else:\n",
    "                    color = palette[1]\n",
    "            else:\n",
    "                color = palette[0]\n",
    "            ax.scatter3D(x,y,z, color = color, s = 1)\n",
    "\n",
    "        ax.set_xlabel('x')\n",
    "        ax.set_ylabel('y')\n",
    "        ax.set_zlabel('z')\n",
    "            \n",
    "        if mode == 0:\n",
    "            high_amp = patches.Patch(color=palette[0], label = 'A>='+str(amp_threshold))\n",
    "            low_amp = patches.Patch(color=palette[1], label = 'A<'+str(amp_threshold))\n",
    "            plt.legend(handles=[high_amp, low_amp], fontsize='small')\n",
    "            plt.title('Event {} \\n'.format(n) + str(wedge_pt_count) + ' / ' + str(pt_count) + ' / ' + str(ev_len) + ' points')\n",
    "        elif mode == 1:\n",
    "            if (null_inds[n] == 1):\n",
    "                plt.title('Event {} \\n'.format(n) + 'Null')\n",
    "            else:\n",
    "                plt.title('Event {} \\n'.format(n) + str(ev_len) + ' points')\n",
    "        elif mode == 2 or mode == 4:\n",
    "            plt.title('Event {} \\n'.format(int(data[n,0,3])) + str(ev_len) + ' points')\n",
    "            \n",
    "        n += 1"
   ]
  },
  {
   "cell_type": "markdown",
   "id": "a9203b9a-ca2e-41b0-820f-c03125e45a80",
   "metadata": {},
   "source": [
    "The subplots below display the raw xyz data. (mode = 0.)\\\n",
    "The three numbers are (1) the number of points with amplitudes higher than the user-desired threshold; (2) the number of points detected in the \"wedge\" region; (3) the total number of poitns."
   ]
  },
  {
   "cell_type": "code",
   "execution_count": null,
   "id": "24371295-e393-4590-bf36-14319dae1567",
   "metadata": {},
   "outputs": [],
   "source": [
    "evlen_path = dir_name + ISOTOPE + '_exp_A0_ev_lens.npy'\n",
    "data_path = dir_name + ISOTOPE + '_exp_A0_XYZC.npy'\n",
    "nullInd_path = dir_name + ISOTOPE + '_exp_nullInd.npy'\n",
    "plot_events(evlen_path, data_path, nullInd_path, amp_threshold, 0, 2)"
   ]
  },
  {
   "cell_type": "markdown",
   "id": "1c489d1d-476e-4ae7-84d5-8f141960aea2",
   "metadata": {},
   "source": [
    "## Remove Low-Amp Points; Remove Null Events\n",
    "Notice that there are three types of events: \\\n",
    "(1) Events with no visible patterns. \\\n",
    "    E.g., 0, 1, 2, 6, 8, 9, 13, 17, 20, 21, 22, 28, 30, 31, 32, 35, 36, 37, 40, 41, 43, 47, 48, 49 \\\n",
    "(2) Events with a wedge-like shape. (Per Yassid, this shape is caused by detection bias.) \\\n",
    "    E.g., 3, 7, 10, 12, 15, 19, 23, 29, 33, 34, 38, 45, 46 \\\n",
    "(3) Events with trajectories. \\\n",
    "    E.g., 4, 5, 11, 14, 16, 18, 24, 25, 26, 27, 39, 42, 44\n",
    "\n",
    "We only want to keep type (3). To do so, we first filter the points of low amplitude from all events."
   ]
  },
  {
   "cell_type": "code",
   "execution_count": null,
   "id": "40e34806-16c0-4e1c-94c5-4986b835f889",
   "metadata": {},
   "outputs": [],
   "source": [
    "evlen_path = dir_name + ISOTOPE + '_exp_A0_ev_lens.npy'\n",
    "data_path = dir_name + ISOTOPE + '_exp_A0_XYZC.npy'\n",
    "ev_lens = np.load(evlen_path)\n",
    "data = np.load(data_path)\n",
    "num_of_event = len(data)\n",
    "max_ev_len = len(data[0])\n",
    "data_filter = np.zeros((num_of_event, max_ev_len, 4), float) \n",
    "ev_len_filter = np.zeros(num_of_event, int)\n",
    "\n",
    "for n in tqdm.tqdm(range(num_of_event)):\n",
    "    count = 0\n",
    "    for i in range(ev_lens[n]):\n",
    "        if (data[n,i,3] < amp_threshold):\n",
    "            continue\n",
    "        else:\n",
    "            data_filter[n,count] = data[n,i]\n",
    "            count += 1\n",
    "    ev_len_filter[n] = count\n",
    "    \n",
    "max_ev_len = np.max(ev_len_filter)\n",
    "data_filter_saving = data_filter[:,:np.max(ev_len_filter),:]\n",
    "\n",
    "evlen_path = dir_name + ISOTOPE + '_exp_A' + str(amp_threshold) + '_ev_lens'\n",
    "data_path = dir_name + ISOTOPE + '_exp_A'+ str(amp_threshold) + '_XYZC'\n",
    "np.save(evlen_path, ev_len_filter)\n",
    "np.save(data_path, data_filter_saving)"
   ]
  },
  {
   "cell_type": "markdown",
   "id": "ab674236-2fa7-41a0-bc2e-36addf52337b",
   "metadata": {},
   "source": [
    "Then we mark the events with \\\n",
    "(1) few total points, or \\\n",
    "(2) numerous points in the area where the wedge-like shape often occurs \\\n",
    "as null."
   ]
  },
  {
   "cell_type": "code",
   "execution_count": null,
   "id": "1105a9aa-4a08-4068-bcc2-f2c3b225ff3d",
   "metadata": {},
   "outputs": [],
   "source": [
    "evlen_path = dir_name + ISOTOPE + '_exp_A' + str(amp_threshold) + '_ev_lens.npy'\n",
    "data_path = dir_name + ISOTOPE + '_exp_A'+ str(amp_threshold) + '_XYZC.npy'\n",
    "nullInd_path = dir_name + ISOTOPE + '_exp_nullInd.npy'\n",
    "ev_lens = np.load(evlen_path)\n",
    "data = np.load(data_path)\n",
    "null_ind = np.load(nullInd_path)\n",
    "num_of_event = len(data)\n",
    "max_ev_len = len(data[0])\n",
    "data_noNull = np.zeros((num_of_event, max_ev_len, 4), float) \n",
    "ev_lens_noNull = np.zeros(num_of_event, int) \n",
    "count = 0\n",
    "\n",
    "for n in tqdm.tqdm(range(num_of_event)):\n",
    "    ev_len = int(ev_lens[n])\n",
    "    evt = data[n,:ev_len,:]\n",
    "    wedge_pt_count = 0\n",
    "    \n",
    "    for i,e in enumerate(evt):\n",
    "        x = e[0] #get x value of point\n",
    "        y = e[1] #get y value of point\n",
    "        a = e[3]\n",
    "        if (-130 < x < 10 and -10 < y < 130 and (-x/3) < y < (-3*x)):\n",
    "             wedge_pt_count += 1\n",
    "\n",
    "    if (ev_len <= 100) or (wedge_pt_count >= 80) or (wedge_pt_count / ev_len >= 0.3):\n",
    "        null_ind[n] = 1\n",
    "    else:\n",
    "        data_noNull[count] = data[n]\n",
    "        ev_lens_noNull[count] = ev_len\n",
    "        count += 1\n",
    "\n",
    "evlen_path = dir_name + ISOTOPE + '_exp_A'+ str(amp_threshold) + '_noNull_ev_lens'\n",
    "data_path = dir_name + ISOTOPE + '_exp_A'+ str(amp_threshold) + '_noNull_XYZC'\n",
    "nullInd_path = dir_name + ISOTOPE + '_exp_nullInd'\n",
    "np.save(evlen_path, ev_lens_noNull[:count])\n",
    "np.save(data_path, data_noNull[:count])\n",
    "np.save(nullInd_path, null_ind)"
   ]
  },
  {
   "cell_type": "markdown",
   "id": "db364d0b-3cb1-4ab5-966a-c46a90c4d069",
   "metadata": {},
   "source": [
    "The subplots below display all events after filtering for amplitudes & marking for null. (mode = 1.)\\\n",
    "If the event is not marked as null, then the total number of points is shown."
   ]
  },
  {
   "cell_type": "code",
   "execution_count": null,
   "id": "1ff3678c-d6e1-48fc-ba72-4eb6e296a1b0",
   "metadata": {},
   "outputs": [],
   "source": [
    "evlen_path = dir_name  + ISOTOPE + '_exp_A' + str(amp_threshold) + '_ev_lens.npy'\n",
    "data_path = dir_name + ISOTOPE + '_exp_A' + str(amp_threshold) + '_XYZC.npy'\n",
    "nullInd_path = dir_name + ISOTOPE + '_exp_nullInd.npy'\n",
    "plot_events(evlen_path, data_path, nullInd_path, amp_threshold, 1, 2)"
   ]
  },
  {
   "cell_type": "markdown",
   "id": "67f5821a-26bd-4a39-913b-57e49d181959",
   "metadata": {},
   "source": [
    "The subplots below display no-null events. (mode = 2.)"
   ]
  },
  {
   "cell_type": "code",
   "execution_count": null,
   "id": "1810b54b-b41e-4b45-a911-f06235b512dd",
   "metadata": {},
   "outputs": [],
   "source": [
    "evlen_path = dir_name + ISOTOPE + '_exp_A' + str(amp_threshold) + '_noNull_ev_lens.npy'\n",
    "data_path = dir_name + ISOTOPE + '_exp_A' + str(amp_threshold) + '_noNull_XYZC.npy'\n",
    "nullInd_path = dir_name + ISOTOPE + '_exp_nullInd.npy'\n",
    "plot_events(evlen_path, data_path, nullInd_path, amp_threshold, 2, 2)"
   ]
  },
  {
   "cell_type": "markdown",
   "id": "05e2b898-2283-459f-a3a4-4f7a54130021",
   "metadata": {},
   "source": [
    "## Sample Points"
   ]
  },
  {
   "cell_type": "code",
   "execution_count": null,
   "id": "b06c6265-933c-4ee4-a67c-0bdb5a994236",
   "metadata": {},
   "outputs": [],
   "source": [
    "evlen_path = dir_name + ISOTOPE + '_exp_A' + str(amp_threshold) + '_ev_lens.npy'\n",
    "data_path = dir_name + ISOTOPE + '_exp_A'+ str(amp_threshold) + '_XYZC.npy'\n",
    "data_noNull = np.load(data_path)\n",
    "num_of_event = len(data_noNull)\n",
    "max_ev_len = len(data_noNull[0])\n",
    "ev_lens = np.load(evlen_path)\n",
    "data_sampled = np.zeros((num_of_event, sample_size, 4), float) #XYZC\n",
    "\n",
    "for n in tqdm.tqdm(range(num_of_event)):\n",
    "    ev_len = ev_lens[n]\n",
    "    if ev_len >= sample_size:\n",
    "        data_sampled[n,:sample_size,:] = data_noNull[n,:sample_size,:]\n",
    "    else:\n",
    "        data_sampled[n,:ev_len,:] = data_noNull[n,:ev_len,:]\n",
    "        need = sample_size - ev_len\n",
    "        random_points = np.random.choice(range(ev_len), need, replace=True if need > ev_len else False) \n",
    "        instant = ev_len\n",
    "        for r in random_points:\n",
    "            data_sampled[n,instant,:] = data_noNull[n,r,:] \n",
    "            instant += 1\n",
    "\n",
    "data_path = dir_name + ISOTOPE + '_exp_A'+ str(amp_threshold) + '_noNull_size' + str(sample_size) + '_XYZC'\n",
    "np.save(data_path, data_sampled)"
   ]
  },
  {
   "cell_type": "markdown",
   "id": "8a19d2ba-2000-4341-81bd-3914e5ac7325",
   "metadata": {},
   "source": [
    "## Normalize x, y, z, a"
   ]
  },
  {
   "cell_type": "code",
   "execution_count": null,
   "id": "aa8779ef-0ada-4115-90c0-2c731ed065ff",
   "metadata": {},
   "outputs": [],
   "source": [
    "data_path = dir_name + ISOTOPE + '_exp_A'+ str(amp_threshold) + '_noNull_size' + str(sample_size) + '_XYZC.npy'\n",
    "data_sampled = np.load(data_path)\n",
    "data_scaled = data_sampled\n",
    "\n",
    "data_scaled[:,:,3] = np.log10(data_sampled[:,:,3] + 1e-10)\n",
    "\n",
    "for n in range(4):\n",
    "    mean = np.mean(data_sampled[:,:,n])\n",
    "    std = np.std(data_sampled[:,:,n])\n",
    "    data_scaled[:,:,n] = (data_sampled[:,:,n] - mean) / std\n",
    "    if n == 3:\n",
    "        amp_threshold_scaled = (amp_threshold - mean) / std\n",
    "\n",
    "data_path = dir_name + ISOTOPE + '_exp_A'+ str(amp_threshold) + '_noNull_size' + str(sample_size) + '_scaled_XYZC'\n",
    "np.save(data_path, data_scaled)"
   ]
  },
  {
   "cell_type": "markdown",
   "id": "f309ed5a-ea21-4279-93f9-02ba629b33c8",
   "metadata": {},
   "source": [
    "The subplots below display normalized no-null events. (mode = 2.)"
   ]
  },
  {
   "cell_type": "code",
   "execution_count": null,
   "id": "765461b1-de13-4c4a-bd18-2b0fc86818ce",
   "metadata": {},
   "outputs": [],
   "source": [
    "data_path = dir_name + ISOTOPE + '_exp_A'+ str(amp_threshold) + '_noNull_size' + str(sample_size) + '_scaled_XYZC.npy'\n",
    "evlen_path = dir_name + ISOTOPE + '_exp_A'+ str(amp_threshold) + '_noNull_ev_lens.npy'\n",
    "nullInd_path = dir_name + ISOTOPE + '_exp_nullInd.npy'\n",
    "plot_events(evlen_path, data_path, nullInd_path, amp_threshold_scaled, 2, 2)"
   ]
  },
  {
   "cell_type": "markdown",
   "id": "7d3c8f28-0e6d-4bde-aa08-f170a52374f5",
   "metadata": {},
   "source": [
    "## Getting high quality events"
   ]
  },
  {
   "cell_type": "code",
   "execution_count": null,
   "id": "1fe9bd45-84e6-4d3f-9cad-28013306ff18",
   "metadata": {},
   "outputs": [],
   "source": [
    "evlen_path = dir_name + ISOTOPE + '_exp_A' + str(amp_threshold) + '_noNull_ev_lens.npy'\n",
    "data_path = dir_name + ISOTOPE + '_exp_A' + str(amp_threshold) + '_noNull_XYZC.npy'\n",
    "data = np.load(data_path)\n",
    "length = np.load(evlen_path)"
   ]
  },
  {
   "cell_type": "code",
   "execution_count": null,
   "id": "968ca6f4-d27a-48fe-93f7-55efeb33163e",
   "metadata": {},
   "outputs": [],
   "source": [
    "length.shape"
   ]
  },
  {
   "cell_type": "code",
   "execution_count": null,
   "id": "1ed4d678-bb9f-4fd7-8e61-2ed2f2d2c52b",
   "metadata": {},
   "outputs": [],
   "source": [
    "sorted_indices = np.argsort(length)[::-1]\n",
    "print(length[sorted_indices])\n",
    "# Use these indices to sort the 3D array\n",
    "sorted_data = data[sorted_indices]"
   ]
  },
  {
   "cell_type": "code",
   "execution_count": null,
   "id": "ceeabd34-f623-49d0-8f8e-2eaf73b91f39",
   "metadata": {},
   "outputs": [],
   "source": [
    "def plot_4d_point_clouds(arr):\n",
    "    fig = plt.figure(figsize=(20, 20))\n",
    "\n",
    "    for i in range(len(arr)):\n",
    "        \n",
    "        ax = fig.add_subplot(10, 5, i+1, projection='3d') # Creating subplots\n",
    "        cloud = arr[i]\n",
    "        # Splitting 4D point cloud into x, y, z coordinates and color\n",
    "        xs = cloud[:, 0]\n",
    "        ys = cloud[:, 1]\n",
    "        zs = cloud[:, 2]\n",
    "        colors = cloud[:, 3]\n",
    "\n",
    "        # Normalizing color values to range [0,1]\n",
    "        colors = (colors - np.min(colors)) / (np.max(colors) - np.min(colors))\n",
    "\n",
    "        sc = ax.scatter(xs, ys, zs, c=colors, cmap=plt.cool(), s = 1)\n",
    "        ax.set_title(f'Point Cloud {i+1}')\n",
    "        plt.colorbar(sc, shrink = 0.5)\n",
    "\n",
    "    plt.tight_layout()\n",
    "    plt.show()\n"
   ]
  },
  {
   "cell_type": "code",
   "execution_count": null,
   "id": "c42484bc-4c6e-4dc8-a7fa-f6d8c27a7f92",
   "metadata": {},
   "outputs": [],
   "source": [
    "plot_4d_point_clouds(sorted_data[:50])"
   ]
  },
  {
   "cell_type": "code",
   "execution_count": null,
   "id": "6c1407fb-f868-47e8-b186-46c982e4587e",
   "metadata": {},
   "outputs": [],
   "source": [
    "picked = [4, 5, 7, 9, 11, 17, 22, 31, 43, 46]\n",
    "data_path = dir_name + ISOTOPE + '_exp_A' + str(amp_threshold) + '_noNull_XYZC_picked.npy'\n",
    "evlen_path = dir_name + ISOTOPE + '_exp_A' + str(amp_threshold) + '_noNull_ev_lens_picked.npy'\n",
    "data = sorted_data[picked]\n",
    "evlen = sorted_indices[picked]\n",
    "np.save(data_path, data)\n",
    "np.save(evlen_path, evlen)"
   ]
  },
  {
   "cell_type": "code",
   "execution_count": null,
   "id": "8f109e43-12a9-46f5-a209-f87874d6001f",
   "metadata": {},
   "outputs": [],
   "source": [
    "evlen_path = dir_name + ISOTOPE + '_exp_A' + str(amp_threshold) + '_noNull_ev_lens_picked.npy'\n",
    "data_path = dir_name + ISOTOPE + '_exp_A' + str(amp_threshold) + '_noNull_XYZC_picked.npy'\n",
    "data_noNull = np.load(data_path)\n",
    "num_of_event = len(data_noNull)\n",
    "max_ev_len = len(data_noNull[0])\n",
    "ev_lens = np.load(evlen_path)\n",
    "data_sampled = np.zeros((num_of_event, sample_size, 4), float) #XYZC\n",
    "\n",
    "for n in tqdm.tqdm(range(num_of_event)):\n",
    "    ev_len = ev_lens[n]\n",
    "    if ev_len >= sample_size:\n",
    "        data_sampled[n,:sample_size,:] = data_noNull[n,:sample_size,:]\n",
    "    else:\n",
    "        data_sampled[n,:ev_len,:] = data_noNull[n,:ev_len,:]\n",
    "        need = sample_size - ev_len\n",
    "        random_points = np.random.choice(range(ev_len), need, replace=True if need > ev_len else False) \n",
    "        instant = ev_len\n",
    "        for r in random_points:\n",
    "            data_sampled[n,instant,:] = data_noNull[n,r,:] \n",
    "            instant += 1\n",
    "            \n",
    "np.random.shuffle(data_sampled)\n",
    "data_path = dir_name + ISOTOPE + '_exp_A'+ str(amp_threshold) + '_noNull_size' + str(sample_size) + '_XYZC_picked.npy'\n",
    "np.save(data_path, data_sampled)"
   ]
  },
  {
   "cell_type": "code",
   "execution_count": null,
   "id": "aa87d2e6-8e73-4b47-86d0-3cbe3dbdcb2a",
   "metadata": {},
   "outputs": [],
   "source": [
    "data_path = dir_name + ISOTOPE + '_exp_A'+ str(amp_threshold) + '_noNull_size' + str(sample_size) + '_XYZC_picked.npy'\n",
    "data_sampled = np.load(data_path)\n",
    "data_scaled = data_sampled\n",
    "\n",
    "data_scaled[:,:,3] = np.log10(data_sampled[:,:,3] + 1e-10)\n",
    "\n",
    "for n in range(4):\n",
    "    mean = np.mean(data_sampled[:,:,n])\n",
    "    std = np.std(data_sampled[:,:,n])\n",
    "    data_scaled[:,:,n] = (data_sampled[:,:,n] - mean) / std\n",
    "    if n == 3:\n",
    "        amp_threshold_scaled = (amp_threshold - mean) / std\n",
    "\n",
    "data_path = dir_name + ISOTOPE + '_exp_A'+ str(amp_threshold) + '_noNull_size' + str(sample_size) + '_scaled_XYZC_picked'\n",
    "np.save(data_path, data_scaled)"
   ]
  },
  {
   "cell_type": "code",
   "execution_count": null,
   "id": "48706a28-3835-4d50-b7cb-6da5aadc48ce",
   "metadata": {},
   "outputs": [],
   "source": [
    "data_path = dir_name + ISOTOPE + '_exp_A'+ str(amp_threshold) + '_noNull_size' + str(sample_size) + '_scaled_XYZC_picked.npy'\n",
    "data = np.load(data_path)\n",
    "print(data.shape)\n",
    "plot_4d_point_clouds(data)"
   ]
  },
  {
   "cell_type": "code",
   "execution_count": null,
   "id": "0224d18c-0e6e-405c-9a28-ed8de50bc1a7",
   "metadata": {},
   "outputs": [],
   "source": []
  }
 ],
 "metadata": {
  "kernelspec": {
   "display_name": "Python 3 (ipykernel)",
   "language": "python",
   "name": "python3"
  },
  "language_info": {
   "codemirror_mode": {
    "name": "ipython",
    "version": 3
   },
   "file_extension": ".py",
   "mimetype": "text/x-python",
   "name": "python",
   "nbconvert_exporter": "python",
   "pygments_lexer": "ipython3",
   "version": "3.7.10"
  }
 },
 "nbformat": 4,
 "nbformat_minor": 5
}
