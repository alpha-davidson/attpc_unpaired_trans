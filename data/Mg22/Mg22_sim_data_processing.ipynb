{
 "cells": [
  {
   "cell_type": "markdown",
   "id": "5233434b-eb97-43c9-94b3-7cd9ce067089",
   "metadata": {},
   "source": [
    "# Background\n",
    "\n",
    "The simulations record the trajectories (a series of x,y,z coordinates, with associated amplitude of each point) of products resulting from collision/reaction between Mg22 and alpha particles in ATTPC."
   ]
  },
  {
   "cell_type": "markdown",
   "id": "3dff6f4f-9652-4e0d-b480-4d1a35b52afc",
   "metadata": {},
   "source": [
    "# User-Desired Settings"
   ]
  },
  {
   "cell_type": "markdown",
   "id": "48a9ba78-ea1d-4468-87da-34a4095d1934",
   "metadata": {},
   "source": [
    "The isotope used in this experiment is Mg22."
   ]
  },
  {
   "cell_type": "code",
   "execution_count": null,
   "id": "385514b9-992a-492e-9879-6ac1be5bfa2f",
   "metadata": {},
   "outputs": [],
   "source": [
    "ISOTOPE = 'Mg22'"
   ]
  },
  {
   "cell_type": "markdown",
   "id": "26b2900a-c653-4032-8698-c742d50d4a93",
   "metadata": {},
   "source": [
    "The neural network model requires a fixed number of inputs. Whereas the actual events comprise different number of points, we will select exactly 512 points (may be redundant) as final inputs of each event."
   ]
  },
  {
   "cell_type": "code",
   "execution_count": null,
   "id": "3d9205a4-0dd6-44b8-8cff-ba30ab9d8dbf",
   "metadata": {},
   "outputs": [],
   "source": [
    "sample_size = 256"
   ]
  },
  {
   "cell_type": "markdown",
   "id": "7590054b-4a48-44fd-bfe0-38cbd10920b8",
   "metadata": {},
   "source": [
    "We create a folder named \"test\" to store the outputs."
   ]
  },
  {
   "cell_type": "code",
   "execution_count": null,
   "id": "4065442c-fde6-45b0-95d8-7ff895373708",
   "metadata": {},
   "outputs": [],
   "source": [
    "dir_name = './'"
   ]
  },
  {
   "cell_type": "markdown",
   "id": "3e437c19-0e9e-4ee9-b1fa-3552baa4c7b4",
   "metadata": {},
   "source": [
    "# Data Processing"
   ]
  },
  {
   "cell_type": "markdown",
   "id": "c574ab67-863a-42ce-b870-d90e0d93b16c",
   "metadata": {},
   "source": [
    "## Import Libraries"
   ]
  },
  {
   "cell_type": "code",
   "execution_count": null,
   "id": "7bd2836c-1603-4db7-9e1e-e7a7cc96c053",
   "metadata": {},
   "outputs": [],
   "source": [
    "import h5py\n",
    "import numpy as np\n",
    "import tqdm\n",
    "import math\n",
    "import random\n",
    "import copy\n",
    "import matplotlib.pyplot as plt\n",
    "import matplotlib.patches as patches\n",
    "from mpl_toolkits import mplot3d"
   ]
  },
  {
   "cell_type": "markdown",
   "id": "9a9a257c-8732-4f75-9176-a17c9b242dc9",
   "metadata": {},
   "source": [
    "## Import Data\n",
    "There are two files:\n",
    "1. \"Mg22_alpha.h5\" contains two-track events: Mg + alpha --> Mg + alpha\n",
    "2. \"output_digi_HDF_Mg22_Ne20pp_8MeV.h5\" contains four-track events: Mg + alpha --> alpha + neon + proton + proton\n",
    "\n",
    "Each file comprises 10000 events. \\\n",
    "Each event comprises 353-1852 points. \\\n",
    "Each point has 12 entries: x[0], y[1], z[2], time[3], amplitude[4], particleID[5], pointID[6], energy[7] ,energy loss[8], angle[9], mass[10], atomic number[11]. \\\n",
    "The only meaningful entries are x[0], y[1], z[2], amplitude[4]."
   ]
  },
  {
   "cell_type": "code",
   "execution_count": null,
   "id": "2f8f1017-0f6e-4423-99dc-703cabf9f844",
   "metadata": {},
   "outputs": [],
   "source": [
    "def import_data(file, index):\n",
    "    event_ids = list(file.keys())\n",
    "    num_of_event = len(event_ids)\n",
    "    ev_lens = np.zeros(num_of_event, int)\n",
    "    for i in range(num_of_event):\n",
    "        event_id = event_ids[i]\n",
    "        event = file[event_id]\n",
    "        ev_lens[i] = len(file[event_id])\n",
    "    evlen_path = dir_name + ISOTOPE + '_sim' + str(index) + '_XYZAPPE_ev_lens'\n",
    "    np.save(evlen_path, ev_lens)\n",
    "\n",
    "    data = np.zeros((num_of_event, np.max(ev_lens), 7), float) # XYZAPPE\n",
    "    for n in tqdm.tqdm(range(num_of_event)):\n",
    "        event_id = event_ids[n]\n",
    "        event = file[event_id]\n",
    "        #converting event into an array\n",
    "        for i,e in enumerate(event):\n",
    "            instant = np.array(list(e))\n",
    "            data[n][i][0:3] = np.array(instant[0:3]) # x,y,z\n",
    "            data[n][i][3] = np.array(instant[4]) # amplitude\n",
    "            data[n][i][4] = np.array(instant[5])-1 # particleID--lower index to start at 0\n",
    "            data[n][i][5] = np.arange(1,np.max(ev_lens)+1)[i] # pointID\n",
    "            data[n][i][-1] = float(n) # eventID\n",
    "    data_path = dir_name  + ISOTOPE + '_sim' + str(index) + '_XYZAPPE'\n",
    "    np.save(data_path, data)\n",
    "    \n",
    "    return ev_lens, data"
   ]
  },
  {
   "cell_type": "code",
   "execution_count": null,
   "id": "9cfc0372-2bc7-4283-bfba-1ef591928bcb",
   "metadata": {},
   "outputs": [],
   "source": [
    "file1 = h5py.File(dir_name + 'Mg22_alpha.h5', 'r') # 2-track\n",
    "file2 = h5py.File(dir_name + 'output_digi_HDF_Mg22_Ne20pp_8MeV.h5', 'r') # 4-track\n",
    "ev_lens1, data1 = import_data(file1, 1)\n",
    "ev_lens2, data2 = import_data(file2, 2)"
   ]
  },
  {
   "cell_type": "markdown",
   "id": "02d4c44a-ad11-45e0-8770-b065568915ed",
   "metadata": {},
   "source": [
    "When running this notebook the second time, simply reload the data (instead of spending 10 min to repeat the step above)."
   ]
  },
  {
   "cell_type": "code",
   "execution_count": null,
   "id": "8f5ab2c2-679a-4872-b1a1-8c3cc9019d1c",
   "metadata": {},
   "outputs": [],
   "source": [
    "ev_lens1 = np.load(dir_name + ISOTOPE + '_sim1_XYZAPPE_ev_lens.npy')\n",
    "data1 = np.load(dir_name + ISOTOPE + '_sim1_XYZAPPE.npy')\n",
    "ev_lens2 = np.load(dir_name + ISOTOPE + '_sim2_XYZAPPE_ev_lens.npy')\n",
    "data2 = np.load(dir_name + ISOTOPE + '_sim2_XYZAPPE.npy')"
   ]
  },
  {
   "cell_type": "markdown",
   "id": "5c7d4303-74a7-4f59-8f70-d343630bdc4e",
   "metadata": {},
   "source": [
    "### Plot Events"
   ]
  },
  {
   "cell_type": "code",
   "execution_count": null,
   "id": "cdb0f6c9-832e-44a8-a01a-2cfc448749c4",
   "metadata": {},
   "outputs": [],
   "source": [
    "color = ['b', 'y', 'g', 'c', 'k', 'gray']\n",
    "\n",
    "def plot(evlen_path, data_path, rows, index, noise):\n",
    "    ev_lens = np.load(evlen_path)\n",
    "    data = np.load(data_path)\n",
    "    fig = plt.figure(figsize=(18,rows*4))\n",
    "    for n in range(rows*5):\n",
    "        ax = fig.add_subplot(rows, 5, n+1, projection='3d')\n",
    "        ev_id = int(data[n,0,6])\n",
    "        ev_len = int(ev_lens[ev_id])\n",
    "        evt = data[ev_id,:ev_len,:]\n",
    "        for i,e in enumerate(evt):\n",
    "            x = e[0] #get x value of instance\n",
    "            y = e[1] #get y value of instance\n",
    "            z = e[2] #get z value of instance\n",
    "            label = int(e[4])\n",
    "            if index == 1:\n",
    "                if label == 0: #Mg\n",
    "                    clr = color[1]\n",
    "                elif label == 1:  #alpha\n",
    "                    clr = color[0]\n",
    "                elif label == 2:  #noise\n",
    "                    clr = color[4]\n",
    "                else:  #unknown\n",
    "                    clr = color[5]\n",
    "            elif index == 2:\n",
    "                if label == 0: #alpha\n",
    "                    clr = color[0]\n",
    "                elif label == 1: #neon\n",
    "                    clr = color[1]\n",
    "                elif label == 2 or label == 3: #proton\n",
    "                    clr = color[3]\n",
    "                elif label == 4:  #noise\n",
    "                    clr = color[4]\n",
    "                else:  #unknown\n",
    "                    clr = color[5]\n",
    "            ax.scatter3D(x, y, z, c = clr, s = 1) \n",
    "\n",
    "        ax.set_xlabel('x')\n",
    "        ax.set_ylabel('y')\n",
    "        ax.set_zlabel('z')\n",
    "\n",
    "        A1 = patches.Patch(color=color[0], label = 'alpha')\n",
    "        A2 = patches.Patch(color=color[3], label = 'proton')\n",
    "        A3 = patches.Patch(color=color[1], label = 'Mg')\n",
    "        A4 = patches.Patch(color=color[2], label = 'neon')\n",
    "        A5 = patches.Patch(color=color[4], label = 'noise')\n",
    "        \n",
    "        if (index == 1):\n",
    "            if (noise == 0):\n",
    "                plt.legend(handles=[A1, A3], fontsize='small')\n",
    "            else:\n",
    "                plt.legend(handles=[A1, A3, A5], fontsize='small')\n",
    "            plt.suptitle('Mg + alpha --> Mg + alpha', fontsize=25)\n",
    "        elif (index == 2):\n",
    "            if (noise == 0):\n",
    "                plt.legend(handles=[A1, A2, A4], fontsize='small')\n",
    "            else:\n",
    "                plt.legend(handles=[A1, A2, A4, A5], fontsize='small')\n",
    "            plt.suptitle('Mg + alpha --> alpha + neon + proton + proton', fontsize=25)\n",
    "\n",
    "        plt.title('Event {} \\n'.format(n) + str(ev_len) + ' points')\n",
    "        \n",
    "    if index == 1 and noise == 0:\n",
    "        plt.suptitle('2-Track Data', fontsize=25)\n",
    "    elif index == 1 and noise == 1:\n",
    "        plt.suptitle('2-Track Data with Noise', fontsize=25)\n",
    "    elif index == 2 and noise == 0:\n",
    "        plt.suptitle('4-Track Data', fontsize=25)\n",
    "    elif index == 2 and noise == 1:\n",
    "        plt.suptitle('4-Track Data with Noise', fontsize=25)"
   ]
  },
  {
   "cell_type": "code",
   "execution_count": null,
   "id": "cf8c686c-0b0d-472f-8b61-8a4cc9306de9",
   "metadata": {},
   "outputs": [],
   "source": [
    "def plot_charge(evlen_path, data_path, rows, index, noise):\n",
    "    ev_lens = np.load(evlen_path)\n",
    "    data = np.load(data_path)\n",
    "    fig = plt.figure(figsize=(18,rows*4))\n",
    "    for n in range(rows*5):\n",
    "        ax = fig.add_subplot(rows, 5, n+1, projection='3d')\n",
    "        ev_id = int(data[n,0,6])\n",
    "        ev_len = int(ev_lens[ev_id])\n",
    "        evt = data[ev_id,:ev_len,:]\n",
    "        for i,e in enumerate(evt):\n",
    "            x = e[0] #get x value of instance\n",
    "            y = e[1] #get y value of instance\n",
    "            z = e[2] #get z value of instance\n",
    "            c = e[3]\n",
    "            print(c)\n",
    "            \n",
    "            ax.scatter3D(x, y, z, c = c, s = 1) \n",
    "\n",
    "        ax.set_xlabel('x')\n",
    "        ax.set_ylabel('y')\n",
    "        ax.set_zlabel('z')\n",
    "\n",
    "        "
   ]
  },
  {
   "cell_type": "code",
   "execution_count": null,
   "id": "c0f0e100-7e15-467a-bfe4-ed8ac5ef69ed",
   "metadata": {},
   "outputs": [],
   "source": [
    "evlen_path =  dir_name + ISOTOPE + '_sim1_XYZAPPE_ev_lens.npy'\n",
    "data_path = dir_name + ISOTOPE + '_sim1_XYZAPPE.npy'\n",
    "plot(evlen_path, data_path, 2, 1, 0)\n",
    "evlen_path =  dir_name + ISOTOPE + '_sim2_XYZAPPE_ev_lens.npy'\n",
    "data_path = dir_name + ISOTOPE + '_sim2_XYZAPPE.npy'\n",
    "plot(evlen_path, data_path, 2, 2, 0)"
   ]
  },
  {
   "cell_type": "code",
   "execution_count": null,
   "id": "9c7d500d-7820-40de-a3b0-6446bae97c80",
   "metadata": {},
   "outputs": [],
   "source": [
    "evlen_path =  dir_name + ISOTOPE + '_sim1_XYZAPPE_ev_lens.npy'\n",
    "data_path = dir_name + ISOTOPE + '_sim1_XYZAPPE.npy'\n",
    "plot_charge(evlen_path, data_path, 2, 1, 0)"
   ]
  },
  {
   "cell_type": "markdown",
   "id": "1c489d1d-476e-4ae7-84d5-8f141960aea2",
   "metadata": {},
   "source": [
    "## Add Random Noise to Data\n",
    "We add some (uniformly) random noise to the simulated data so that we could train Model 1 to distinguish noise from real detections."
   ]
  },
  {
   "cell_type": "code",
   "execution_count": null,
   "id": "40e34806-16c0-4e1c-94c5-4986b835f889",
   "metadata": {},
   "outputs": [],
   "source": [
    "def add_noise(ev_lens, data, noise_label, index):\n",
    "    noise_data = np.zeros((len(ev_lens), np.max(ev_lens)*2, 7), float) # XYZAPPE\n",
    "    noise_ev_lens = np.zeros(len(ev_lens), int)\n",
    "    for i in tqdm.tqdm(range(len(ev_lens))):\n",
    "        ev_len = ev_lens[i]\n",
    "        noise_ev_lens[i] = ev_len*2\n",
    "        evt = data[i]\n",
    "        noise_data[i][0:ev_len] = evt[0:ev_len]\n",
    "        min = np.zeros(3, float) # xmin, ymin, zmin\n",
    "        max = np.zeros(3, float) # xmax, ymax, zmax\n",
    "        for k in range(3):\n",
    "            try:\n",
    "                min[k] = np.min(evt[0:ev_len,k])\n",
    "                max[k] = np.max(evt[0:ev_len,k])\n",
    "            except ValueError: \n",
    "                pass\n",
    "        for j in range(ev_len):\n",
    "            pt = j + ev_len\n",
    "            for k in range(3):\n",
    "                rand = random.uniform(min[k],max[k])\n",
    "                noise_data[i][pt][k] = rand\n",
    "                noise_data[i][pt][4] = noise_label\n",
    "                noise_data[i][pt][5] = j+ev_len\n",
    "                noise_data[i][pt][6] = i\n",
    "        \n",
    "        evlen_path = dir_name + 'data/' + ISOTOPE + '_sim' + str(index) + '_noise_XYZAPPE_ev_lens'\n",
    "        data_path = dir_name + 'data/' + ISOTOPE + '_sim' + str(index) + '_noise_XYZAPPE'\n",
    "    np.save(evlen_path, noise_ev_lens)\n",
    "    np.save(data_path, noise_data)\n",
    "    \n",
    "    return noise_ev_lens, noise_data"
   ]
  },
  {
   "cell_type": "code",
   "execution_count": null,
   "id": "b5c414d8-4f2c-413c-a581-11d278fca1a5",
   "metadata": {},
   "outputs": [],
   "source": [
    "noise_ev_lens1, noise_data1 = add_noise(ev_lens1, data1, 2, 1)\n",
    "noise_ev_lens2, noise_data2 = add_noise(ev_lens2, data2, 4, 2)"
   ]
  },
  {
   "cell_type": "markdown",
   "id": "ca42092f-9c48-48b5-bf10-c280bd60a06d",
   "metadata": {},
   "source": [
    "### Plot Events"
   ]
  },
  {
   "cell_type": "code",
   "execution_count": null,
   "id": "6d05ab09-053d-45e9-aeb7-15a62ac2923d",
   "metadata": {},
   "outputs": [],
   "source": [
    "evlen_path =  dir_name + ISOTOPE + '_sim1_noise_XYZAPPE_ev_lens.npy'\n",
    "data_path = dir_name + ISOTOPE + '_sim1_noise_XYZAPPE.npy'\n",
    "plot(evlen_path, data_path, 2, 1, 1)\n",
    "evlen_path =  dir_name + ISOTOPE + '_sim2_noise_XYZAPPE_ev_lens.npy'\n",
    "data_path = dir_name + ISOTOPE + '_sim2_noise_XYZAPPE.npy'\n",
    "plot(evlen_path, data_path, 2, 2, 1)"
   ]
  },
  {
   "cell_type": "markdown",
   "id": "05e2b898-2283-459f-a3a4-4f7a54130021",
   "metadata": {},
   "source": [
    "## Sample Points"
   ]
  },
  {
   "cell_type": "code",
   "execution_count": null,
   "id": "b06c6265-933c-4ee4-a67c-0bdb5a994236",
   "metadata": {},
   "outputs": [],
   "source": [
    "def sample(ev_lens, data, sample_size, labels_size, index):\n",
    "    sampled_data = np.zeros((len(ev_lens), sample_size, 8), float) # XYZAPPET\n",
    "    selected_data = np.zeros((len(ev_lens), sample_size, 8), float) # XYZAPPET\n",
    "\n",
    "    count = 0\n",
    "    for i in tqdm.tqdm(range(len(ev_lens))):\n",
    "        evt = data[i]\n",
    "        ev_len = ev_lens[i]\n",
    "        \n",
    "        unique_labels = np.unique(evt[:,4])\n",
    "        unique_labels_size = unique_labels.size\n",
    "        if (unique_labels_size != labels_size or ev_len <= 100):\n",
    "            continue\n",
    "    \n",
    "        particle_id = evt[:ev_len,4]\n",
    "        label, distr = np.unique(particle_id, return_counts=True)\n",
    "        shortest = label[np.argmin(distr)]\n",
    "        shortest_ind = np.argwhere(particle_id == shortest)\n",
    "        if ev_len == sample_size:    # if array is already preferred length\n",
    "            sampled_data[i][:,:-1] = data[i][0:ev_len,:]\n",
    "        else:\n",
    "            instant = 0\n",
    "            if shortest_ind.size < sample_size:\n",
    "                for n in range(shortest_ind.size):    # the first points sampled will be those belonging to the shortest track\n",
    "                    sampled_data[i,instant,:-1] = data[i,shortest_ind[n],:]\n",
    "                    instant += 1\n",
    "                need = sample_size - shortest_ind.size\n",
    "            else:\n",
    "                need = sample_size\n",
    "            random_points = np.random.choice(range(ev_len), need, replace= True if need > ev_len else False)  #choosing the random points to sample\n",
    "            for r in random_points:\n",
    "                sampled_data[i,instant,:-1] = data[i,r,:] \n",
    "                instant += 1\n",
    "                    \n",
    "        unique_labels = np.unique(sampled_data[i,:,4])    # array of unique particleIDs\n",
    "        unique_labels_size = unique_labels.size       \n",
    "        if unique_labels_size != labels_size:\n",
    "            continue\n",
    "\n",
    "        selected_data[count] = sampled_data[i]\n",
    "        selected_data[count,0,-1] = labels_size\n",
    "        \n",
    "        count += 1\n",
    "        \n",
    "    if (labels_size == 2 or labels_size == 4):\n",
    "        data_path = dir_name + ISOTOPE + '_sim' + str(index) + '_sampled_XYZAPPE'\n",
    "    else:\n",
    "        data_path = dir_name + ISOTOPE + '_sim' + str(index) + '_noise_sampled_XYZAPPE'\n",
    "    np.save(data_path, selected_data[:count, :,:])    \n",
    "    \n",
    "    return selected_data[:count, :,:]"
   ]
  },
  {
   "cell_type": "code",
   "execution_count": null,
   "id": "408ae05d-47a6-4c52-bcc3-0b47d1d653a6",
   "metadata": {},
   "outputs": [],
   "source": [
    "sampled_data1 = sample(ev_lens1, data1, sample_size, 2, 1)\n",
    "sampled_data2 = sample(ev_lens2, data2, sample_size, 4, 2)"
   ]
  },
  {
   "cell_type": "markdown",
   "id": "1976124d-f02c-4e0a-b0e8-40124c855783",
   "metadata": {},
   "source": [
    "### Plot Events"
   ]
  },
  {
   "cell_type": "code",
   "execution_count": null,
   "id": "2a7375cc-10e1-4a27-b5e5-d8f37b9b67ea",
   "metadata": {},
   "outputs": [],
   "source": [
    "evlen_path =  dir_name + ISOTOPE + '_sim1_XYZAPPE_ev_lens.npy'\n",
    "data_path = dir_name + ISOTOPE + '_sim1_sampled_XYZAPPE.npy'\n",
    "plot(evlen_path, data_path, 2, 1, 0)\n",
    "evlen_path =  dir_name + ISOTOPE + '_sim2_XYZAPPE_ev_lens.npy'\n",
    "data_path = dir_name + ISOTOPE + '_sim2_sampled_XYZAPPE.npy'\n",
    "plot(evlen_path, data_path, 2, 2, 0)"
   ]
  },
  {
   "cell_type": "code",
   "execution_count": null,
   "id": "e2a6b0cb-ab03-4f0d-b5bb-15743992a782",
   "metadata": {},
   "outputs": [],
   "source": [
    "evlen_path =  dir_name + ISOTOPE + '_sim1_XYZAPPE_ev_lens.npy'\n",
    "data_path = dir_name + ISOTOPE + '_sim1_sampled_XYZAPPE.npy'\n",
    "plot_charge(evlen_path, data_path, 2, 1, 0)"
   ]
  },
  {
   "cell_type": "markdown",
   "id": "a1da918d-c7fa-4dfc-89cc-74c6b421d374",
   "metadata": {},
   "source": [
    "## Create a Dataset Combining 2-track and 4-track Events"
   ]
  },
  {
   "cell_type": "code",
   "execution_count": null,
   "id": "77de202c-0d4d-4916-b468-511a4f62d4cf",
   "metadata": {},
   "outputs": [],
   "source": [
    "def combine(data1, data2):\n",
    "    l1 = len(data1)\n",
    "    l2 = len(data2)\n",
    "    combined_data = np.zeros((l1+l2, sample_size, 8), float) # XYZAPPET\n",
    "    combined_data[:l1,:,:] = data1\n",
    "    combined_data[l1:l1+l2,:,:] = data2\n",
    "    if (data1[0,0,-1] == 2):\n",
    "        data_path = dir_name + ISOTOPE + '_sim12_sampled_XYZAPPE'\n",
    "    else:\n",
    "        data_path = dir_name + ISOTOPE + '_sim12_noise_sampled_XYZAPPE'\n",
    "    np.save(data_path, combined_data)\n",
    "    return combined_data"
   ]
  },
  {
   "cell_type": "code",
   "execution_count": null,
   "id": "9ddcf351-9ee7-4c12-af32-d24d30215714",
   "metadata": {},
   "outputs": [],
   "source": [
    "combined_data12 = combine(sampled_data1, sampled_data2)"
   ]
  },
  {
   "cell_type": "markdown",
   "id": "6ff8082b-c51f-405b-a071-7b901cf23186",
   "metadata": {},
   "source": [
    "## Get XYZC"
   ]
  },
  {
   "cell_type": "code",
   "execution_count": null,
   "id": "b31429f9-3577-440c-877c-c5b90b678502",
   "metadata": {
    "tags": []
   },
   "outputs": [],
   "source": [
    "data = np.load(dir_name + ISOTOPE + '_sim12_sampled_XYZAPPE.npy')\n",
    "new_data = data[:,:, [0,1,2,3]]\n",
    "data_path = dir_name + ISOTOPE + '_sim12_sampled_XYZC'\n",
    "np.save(data_path, new_data)"
   ]
  },
  {
   "cell_type": "markdown",
   "id": "ab3e7d3c-da0f-4cc2-9678-1378c7473476",
   "metadata": {},
   "source": [
    "## Pick 10"
   ]
  },
  {
   "cell_type": "code",
   "execution_count": null,
   "id": "47bcef68-fed0-4680-ba92-2cd5cd7ac75a",
   "metadata": {},
   "outputs": [],
   "source": [
    "np.random.shuffle(sampled_data2)\n",
    "data = sampled_data2[:10]\n",
    "new_data = data[:,:, [0,1,2,4]]\n",
    "data_path = \"Mg22_Unpair/\" + ISOTOPE + '_sim12_sampled_XYZC_picked'\n",
    "np.random.shuffle(new_data)\n",
    "data_scaled = new_data\n",
    "data_scaled[:,:,3] = np.log10(new_data[:,:,3] + 1e-10)"
   ]
  },
  {
   "cell_type": "code",
   "execution_count": null,
   "id": "80cccb53-ec48-4781-a507-75f1d8124e1c",
   "metadata": {},
   "outputs": [],
   "source": [
    "for n in range(4):\n",
    "    mean = np.mean(new_data[:,:,n])\n",
    "    std = np.std(new_data[:,:,n])\n",
    "    data_scaled[:,:,n] = (new_data[:,:,n] - mean) / std\n",
    "np.save(data_path, data_scaled)"
   ]
  },
  {
   "cell_type": "code",
   "execution_count": null,
   "id": "4db5f70c-c6b3-40dc-865e-6db4b6bfeeb9",
   "metadata": {},
   "outputs": [],
   "source": [
    "def plot_4d_point_clouds(arr):\n",
    "    fig = plt.figure(figsize=(10, 10))\n",
    "\n",
    "    for i in range(len(arr)):\n",
    "        \n",
    "        ax = fig.add_subplot(2, 5, i+1, projection='3d') # Creating subplots\n",
    "        cloud = arr[i]\n",
    "        # Splitting 4D point cloud into x, y, z coordinates and color\n",
    "        xs = cloud[:, 0]\n",
    "        ys = cloud[:, 1]\n",
    "        zs = cloud[:, 2]\n",
    "        colors = cloud[:, 3]\n",
    "        \n",
    "        # Normalizing color values to range [0,1]\n",
    "        colors = (colors - np.min(colors)) / (np.max(colors) - np.min(colors))\n",
    "        \n",
    "        sc = ax.scatter(xs, ys, zs, c=colors, cmap=plt.cool(), s = 1)\n",
    "        ax.set_xlim([-2.5, 2.5])\n",
    "        ax.set_ylim([-2.5, 2.5])\n",
    "        ax.set_zlim([-2.5, 2.5])\n",
    "        ax.set_title(f'Point Cloud {i+1}')\n",
    "        plt.colorbar(sc,shrink = 0.5)\n",
    "\n",
    "    plt.tight_layout()\n",
    "    plt.show()"
   ]
  },
  {
   "cell_type": "code",
   "execution_count": null,
   "id": "b3e6f8e4-53e1-47cd-a3d2-19f24447687c",
   "metadata": {},
   "outputs": [],
   "source": [
    "plot_4d_point_clouds(data_scaled)"
   ]
  },
  {
   "cell_type": "markdown",
   "id": "b3fc61e4-79a3-4109-b8aa-d01c07e8addb",
   "metadata": {},
   "source": [
    "## Normalize"
   ]
  },
  {
   "cell_type": "code",
   "execution_count": null,
   "id": "e5127c6c-0422-4bc6-9b6a-b8b1de228d02",
   "metadata": {},
   "outputs": [],
   "source": [
    "data_path = dir_name + ISOTOPE + '_sim12_sampled_XYZC.npy'\n",
    "data_sampled = np.load(data_path)\n",
    "data_scaled = data_sampled\n",
    "\n",
    "data_scaled[:,:,3] = np.log10(data_sampled[:,:,3] + 1e-10)\n",
    "\n",
    "for n in range(4):\n",
    "    mean = np.mean(data_sampled[:,:,n])\n",
    "    std = np.std(data_sampled[:,:,n])\n",
    "    data_scaled[:,:,n] = (data_sampled[:,:,n] - mean) / std\n",
    "\n",
    "data_path = dir_name + ISOTOPE + '_sim12_sampled_scaled_XYZC'\n",
    "np.save(data_path, data_scaled)"
   ]
  },
  {
   "cell_type": "markdown",
   "id": "88d3d34c-cc0f-4c1a-9ff0-a650b94861de",
   "metadata": {},
   "source": [
    "## Create sim'"
   ]
  },
  {
   "cell_type": "code",
   "execution_count": null,
   "id": "a3cdc01f-ebd1-42f6-80ee-6fded8b6e8a0",
   "metadata": {},
   "outputs": [],
   "source": [
    "selected = [2,4,19,21,22,24,26,30,39,66]\n",
    "new_data = sampled_data2[selected]\n",
    "new_data = new_data[:,:, [0,1,2,4]]\n",
    "print(new_data.shape)"
   ]
  },
  {
   "cell_type": "code",
   "execution_count": null,
   "id": "371f7143-7676-4b7f-8643-dd34641a763c",
   "metadata": {},
   "outputs": [],
   "source": [
    "data_scaled = new_data\n",
    "\n",
    "data_scaled[:,:,3] = np.log10(new_data[:,:,3] + 1e-10)\n",
    "\n",
    "for n in range(4):\n",
    "    mean = np.mean(new_data[:,:,n])\n",
    "    std = np.std(new_data[:,:,n])\n",
    "    data_scaled[:,:,n] = (new_data[:,:,n] - mean) / std\n",
    "plot_4d_point_clouds(data_scaled)"
   ]
  },
  {
   "cell_type": "code",
   "execution_count": null,
   "id": "ee6c8538-032e-48bb-9f00-7e4c5eb8d256",
   "metadata": {},
   "outputs": [],
   "source": [
    "grids_min = [[0,0,-3],[-3,-3,0]]\n",
    "grids_max = [[0.5,0.5,3],[3,3,0.5]]\n",
    "data_path = \"Mg22_Unpair/\" + ISOTOPE + '_simulated_undeleted'\n",
    "data_path_del = \"Mg22_Unpair/\" + ISOTOPE + '_simulated_deleted'\n",
    "# grids_min = []\n",
    "# grids_max = []\n",
    "\n",
    "data = data_scaled\n",
    "data_deleted = []\n",
    "for point_cloud in data:\n",
    "    for grid_min,grid_max in zip(grids_min, grids_max):\n",
    "        inside_grid = np.all((grid_min <= point_cloud[:,:3]) & (point_cloud[:,:3] <= grid_max), axis=1)\n",
    "        point_cloud = point_cloud[~inside_grid]\n",
    "    data_deleted.append(point_cloud)\n",
    "    \n",
    "data_deleted = np.array(data_deleted)\n",
    "plot_4d_point_clouds(data_deleted)\n"
   ]
  },
  {
   "cell_type": "code",
   "execution_count": null,
   "id": "2599d2ee-ebcf-466e-b8ab-f59d8fe4b712",
   "metadata": {},
   "outputs": [],
   "source": [
    "grids_min = [[0,0,-3],[-3,-3,0]]\n",
    "grids_max = [[0.5,0.5,3],[3,3,0.5]]\n",
    "data_path = \"Mg22_Unpair/\" + ISOTOPE + '_simulated_undeleted'\n",
    "data_path_del = \"Mg22_Unpair/\" + ISOTOPE + '_simulated_deleted'\n",
    "# grids_min = []\n",
    "# grids_max = []\n",
    "\n",
    "data = data_scaled\n",
    "data_deleted = []\n",
    "for point_cloud in data:\n",
    "    for grid_min,grid_max in zip(grids_min, grids_max):\n",
    "        inside_grid = np.all((grid_min <= point_cloud[:,:3]) & (point_cloud[:,:3] <= grid_max), axis=1)\n",
    "        point_cloud = point_cloud[~inside_grid]\n",
    "    data_deleted.append(point_cloud)\n",
    "    \n",
    "data_deleted = np.array(data_deleted)\n",
    "plot_4d_point_clouds(data_deleted)\n"
   ]
  },
  {
   "cell_type": "code",
   "execution_count": null,
   "id": "3bc210a2-dfdf-4b06-8a57-337a5b190405",
   "metadata": {},
   "outputs": [],
   "source": [
    "def sample_4d(data, sample_size=512):\n",
    "    num_points, dim = data.shape\n",
    "    assert dim == 4, \"Input data should be 4D\"\n",
    "\n",
    "    sampled_data = np.zeros((sample_size, dim))\n",
    "\n",
    "    if num_points == sample_size:    # if array is already preferred length\n",
    "        sampled_data = data\n",
    "    else:\n",
    "        random_points = np.random.choice(range(num_points), sample_size, replace=True if num_points < sample_size else False)  #choosing the random points to sample\n",
    "        sampled_data = data[random_points,:]\n",
    "\n",
    "    return sampled_data"
   ]
  },
  {
   "cell_type": "code",
   "execution_count": null,
   "id": "4beb276f-daa2-47db-93d5-c6ac49961583",
   "metadata": {},
   "outputs": [],
   "source": [
    "print(data.shape)\n",
    "print(data_deleted.shape)\n",
    "ev_lens = [len(arr) for arr in data_deleted]\n",
    "print(ev_lens)\n",
    "data_deleted_512 = np.empty([10,512,4])\n",
    "for i in range(len(data_deleted)):\n",
    "    data_deleted_512[i] = sample_4d(data_deleted[i])\n",
    "print(data_deleted_512.shape)"
   ]
  },
  {
   "cell_type": "code",
   "execution_count": null,
   "id": "594743f1-9edf-4c0c-bdf2-d55a9c806c77",
   "metadata": {},
   "outputs": [],
   "source": [
    "plot_4d_point_clouds(data_deleted)"
   ]
  },
  {
   "cell_type": "code",
   "execution_count": null,
   "id": "60a8ca17-7a4c-45fe-93f7-40d4a15ca559",
   "metadata": {},
   "outputs": [],
   "source": [
    "np.save(data_path, data)\n",
    "np.save(data_path_del, data_deleted_512)"
   ]
  },
  {
   "cell_type": "code",
   "execution_count": null,
   "id": "73813d28-e461-455a-ad75-d13b1dd215b9",
   "metadata": {},
   "outputs": [],
   "source": []
  }
 ],
 "metadata": {
  "kernelspec": {
   "display_name": "Python 3 (ipykernel)",
   "language": "python",
   "name": "python3"
  },
  "language_info": {
   "codemirror_mode": {
    "name": "ipython",
    "version": 3
   },
   "file_extension": ".py",
   "mimetype": "text/x-python",
   "name": "python",
   "nbconvert_exporter": "python",
   "pygments_lexer": "ipython3",
   "version": "3.7.10"
  }
 },
 "nbformat": 4,
 "nbformat_minor": 5
}
