{
 "cells": [
  {
   "cell_type": "markdown",
   "id": "5233434b-eb97-43c9-94b3-7cd9ce067089",
   "metadata": {},
   "source": [
    "# Background\n",
    "\n",
    "The simulations record the trajectories (a series of x,y,z coordinates, with associated amplitude of each point) of products resulting from collision/reaction between Mg22 and alpha particles in ATTPC."
   ]
  },
  {
   "cell_type": "markdown",
   "id": "3dff6f4f-9652-4e0d-b480-4d1a35b52afc",
   "metadata": {},
   "source": [
    "# User-Desired Settings"
   ]
  },
  {
   "cell_type": "markdown",
   "id": "48a9ba78-ea1d-4468-87da-34a4095d1934",
   "metadata": {},
   "source": [
    "The isotope used in this experiment is Mg22."
   ]
  },
  {
   "cell_type": "code",
   "execution_count": null,
   "id": "385514b9-992a-492e-9879-6ac1be5bfa2f",
   "metadata": {},
   "outputs": [],
   "source": [
    "ISOTOPE = 'Fission'"
   ]
  },
  {
   "cell_type": "markdown",
   "id": "26b2900a-c653-4032-8698-c742d50d4a93",
   "metadata": {},
   "source": [
    "The neural network model requires a fixed number of inputs. Whereas the actual events comprise different number of points, we will select exactly 512 points (may be redundant) as final inputs of each event."
   ]
  },
  {
   "cell_type": "code",
   "execution_count": null,
   "id": "3d9205a4-0dd6-44b8-8cff-ba30ab9d8dbf",
   "metadata": {},
   "outputs": [],
   "source": [
    "sample_size = 512"
   ]
  },
  {
   "cell_type": "markdown",
   "id": "7590054b-4a48-44fd-bfe0-38cbd10920b8",
   "metadata": {},
   "source": [
    "We create a folder named \"test\" to store the outputs."
   ]
  },
  {
   "cell_type": "code",
   "execution_count": null,
   "id": "4065442c-fde6-45b0-95d8-7ff895373708",
   "metadata": {},
   "outputs": [],
   "source": [
    "dir_name = 'fission_data/'"
   ]
  },
  {
   "cell_type": "markdown",
   "id": "3e437c19-0e9e-4ee9-b1fa-3552baa4c7b4",
   "metadata": {},
   "source": [
    "# Data Processing"
   ]
  },
  {
   "cell_type": "markdown",
   "id": "c574ab67-863a-42ce-b870-d90e0d93b16c",
   "metadata": {},
   "source": [
    "## Import Libraries"
   ]
  },
  {
   "cell_type": "code",
   "execution_count": null,
   "id": "7bd2836c-1603-4db7-9e1e-e7a7cc96c053",
   "metadata": {},
   "outputs": [],
   "source": [
    "import h5py\n",
    "import numpy as np\n",
    "import tqdm\n",
    "import math\n",
    "import random\n",
    "import copy\n",
    "import matplotlib.pyplot as plt\n",
    "import matplotlib.patches as patches\n",
    "from mpl_toolkits import mplot3d"
   ]
  },
  {
   "cell_type": "markdown",
   "id": "9a9a257c-8732-4f75-9176-a17c9b242dc9",
   "metadata": {},
   "source": [
    "## Import Data"
   ]
  },
  {
   "cell_type": "code",
   "execution_count": null,
   "id": "2f8f1017-0f6e-4423-99dc-703cabf9f844",
   "metadata": {},
   "outputs": [],
   "source": [
    "def import_data(file):\n",
    "    event_ids = list(file.keys())\n",
    "    num_of_event = len(event_ids)\n",
    "    ev_lens = np.zeros(num_of_event, int)\n",
    "    for i in range(num_of_event):\n",
    "        event_id = event_ids[i]\n",
    "        event = file[event_id]['HitArray']\n",
    "        ev_lens[i] = len(file[event_id]['HitArray'])\n",
    "    evlen_path = dir_name + ISOTOPE + '_sim' + '_XYZAPPE_ev_lens'\n",
    "    np.save(evlen_path, ev_lens)\n",
    "\n",
    "    data = np.zeros((num_of_event, np.max(ev_lens), 7), float) # XYZAPPE\n",
    "    for n in tqdm.tqdm(range(num_of_event)):\n",
    "        event_id = event_ids[n]\n",
    "        event = file[event_id]['HitArray']\n",
    "        #converting event into an array\n",
    "        for i,e in enumerate(event):\n",
    "            instant = np.array(list(e))\n",
    "            data[n][i][0:3] = np.array(instant[0:3]) # x,y,z\n",
    "            data[n][i][3] = np.array(instant[4]) # amplitude\n",
    "            data[n][i][4] = np.array(instant[5])-1 # particleID--lower index to start at 0\n",
    "            data[n][i][5] = np.arange(1,np.max(ev_lens)+1)[i] # pointID\n",
    "            data[n][i][-1] = float(n) # eventID\n",
    "    data_path = dir_name  + ISOTOPE + '_sim' + '_XYZAPPE'\n",
    "    np.save(data_path, data)\n",
    "    \n",
    "    return ev_lens, data"
   ]
  },
  {
   "cell_type": "code",
   "execution_count": null,
   "id": "9cfc0372-2bc7-4283-bfba-1ef591928bcb",
   "metadata": {},
   "outputs": [],
   "source": [
    "file = h5py.File(dir_name + 'Bi200SimMoreTriggered.h5', 'r')\n",
    "\n",
    "ev_lens, data = import_data(file)"
   ]
  },
  {
   "cell_type": "markdown",
   "id": "02d4c44a-ad11-45e0-8770-b065568915ed",
   "metadata": {},
   "source": [
    "When running this notebook the second time, simply reload the data (instead of spending 10 min to repeat the step above)."
   ]
  },
  {
   "cell_type": "code",
   "execution_count": null,
   "id": "8f5ab2c2-679a-4872-b1a1-8c3cc9019d1c",
   "metadata": {},
   "outputs": [],
   "source": [
    "ev_lens = np.load(dir_name + ISOTOPE + '_sim_XYZAPPE_ev_lens.npy')\n",
    "data = np.load(dir_name + ISOTOPE + '_sim_XYZAPPE.npy')"
   ]
  },
  {
   "cell_type": "markdown",
   "id": "5c7d4303-74a7-4f59-8f70-d343630bdc4e",
   "metadata": {},
   "source": [
    "### Plot Events"
   ]
  },
  {
   "cell_type": "code",
   "execution_count": null,
   "id": "8f21afd1-a418-4c04-9a0e-6655ebf769e2",
   "metadata": {},
   "outputs": [],
   "source": [
    "def visualize(arr, r, c):\n",
    "    fig = plt.figure(figsize=(17,r*4))\n",
    "\n",
    "    for i in range(r*c):\n",
    "        \n",
    "        ax = fig.add_subplot(r, c, i+1, projection='3d') # Creating subplots\n",
    "        cloud = arr[i]\n",
    "        # Splitting 4D point cloud into x, y, z coordinates and color\n",
    "        xs = cloud[:, 0]\n",
    "        ys = cloud[:, 1]\n",
    "        zs = cloud[:, 2]\n",
    "        colors = cloud[:, 3]\n",
    "\n",
    "        sc = ax.scatter(xs, ys, zs, c=colors, cmap=plt.cool(), s = 1)\n",
    "        ax.set_title(f'Point Cloud {i+1}')\n",
    "        plt.colorbar(sc, shrink = 0.5)\n",
    "    plt.show()"
   ]
  },
  {
   "cell_type": "markdown",
   "id": "05e2b898-2283-459f-a3a4-4f7a54130021",
   "metadata": {},
   "source": [
    "## Sample Points"
   ]
  },
  {
   "cell_type": "code",
   "execution_count": null,
   "id": "b06c6265-933c-4ee4-a67c-0bdb5a994236",
   "metadata": {},
   "outputs": [],
   "source": [
    "evlen_path = dir_name + ISOTOPE + '_sim_XYZAPPE_ev_lens.npy'\n",
    "data_path = dir_name + ISOTOPE + '_sim_XYZAPPE.npy'\n",
    "data_noNull = np.load(data_path)\n",
    "num_of_event = len(data_noNull)\n",
    "max_ev_len = len(data_noNull[0])\n",
    "ev_lens = np.load(evlen_path)\n",
    "data_sampled = np.zeros((num_of_event, sample_size, 7), float) #XYZAPPE\n",
    "\n",
    "for n in tqdm.tqdm(range(num_of_event)):\n",
    "    ev_len = ev_lens[n]\n",
    "    if ev_len >= sample_size:\n",
    "        data_sampled[n,:sample_size,:] = data_noNull[n,:sample_size,:]\n",
    "    else:\n",
    "        data_sampled[n,:ev_len,:] = data_noNull[n,:ev_len,:]\n",
    "        need = sample_size - ev_len\n",
    "        random_points = np.random.choice(range(ev_len), need, replace=True if need > ev_len else False) \n",
    "        instant = ev_len\n",
    "        for r in random_points:\n",
    "            data_sampled[n,instant,:] = data_noNull[n,r,:] \n",
    "            instant += 1\n",
    "\n",
    "data_path = dir_name + ISOTOPE + '_sim_sampled_size' + str(sample_size)\n",
    "np.save(data_path, data_sampled)"
   ]
  },
  {
   "cell_type": "markdown",
   "id": "6ff8082b-c51f-405b-a071-7b901cf23186",
   "metadata": {},
   "source": [
    "## Get XYZC"
   ]
  },
  {
   "cell_type": "code",
   "execution_count": null,
   "id": "b31429f9-3577-440c-877c-c5b90b678502",
   "metadata": {
    "tags": []
   },
   "outputs": [],
   "source": [
    "data = np.load(dir_name + ISOTOPE + '_sim_sampled_size' + str(sample_size) + '.npy')\n",
    "new_data = data[:,:, [0,1,2,3]]\n",
    "data_path = dir_name + ISOTOPE + '_sim_sampled_XYZC'\n",
    "np.save(data_path, new_data)"
   ]
  },
  {
   "cell_type": "markdown",
   "id": "b3fc61e4-79a3-4109-b8aa-d01c07e8addb",
   "metadata": {},
   "source": [
    "## Normalize"
   ]
  },
  {
   "cell_type": "code",
   "execution_count": null,
   "id": "e5127c6c-0422-4bc6-9b6a-b8b1de228d02",
   "metadata": {},
   "outputs": [],
   "source": [
    "data_path = dir_name + ISOTOPE + '_sim_sampled_XYZC.npy'\n",
    "data_sampled = np.load(data_path)\n",
    "data_scaled = data_sampled\n",
    "\n",
    "data_sampled[:,:,3] = np.where(data_sampled[:,:,3] > 0, data_sampled[:,:,3], 1)\n",
    "data_sampled[:,:,3] = np.where(data_sampled[:,:,3] < 10000, data_sampled[:,:,3], 10000)   \n",
    "data_scaled[:,:,3] = np.log10(data_sampled[:,:,3])\n",
    "\n",
    "for n in range(3):\n",
    "    if n == 0 or n == 1:\n",
    "        data_scaled[:,:,n] /= 250\n",
    "    else:\n",
    "        data_scaled[:,:,n] = data_scaled[:,:,n]/500 + 1\n",
    "    # data_sampled[:,:,n] = np.where(data_sampled[:,:,n] < 1000, data_sampled[:,:,n], 1000)\n",
    "    # data_sampled[:,:,n] = np.where(data_sampled[:,:,n] > -1000, data_sampled[:,:,n], -1000)\n",
    "    # mean = np.mean(data_sampled[:,:,n])\n",
    "    # std = np.std(data_sampled[:,:,n])\n",
    "    # data_scaled[:,:,n] = (data_sampled[:,:,n] - mean) / std\n",
    "\n",
    "data_path = dir_name + ISOTOPE + '_sim_sampled_scaled_XYZC'\n",
    "np.save(data_path, data_scaled)"
   ]
  },
  {
   "cell_type": "code",
   "execution_count": null,
   "id": "ce63fbc9-e9c0-4903-b01a-5cec87a7d76a",
   "metadata": {},
   "outputs": [],
   "source": [
    "data_path = 'fission_data/Fission_sim_XYZAPPE_ev_lens.npy'\n",
    "data = np.load(data_path)\n",
    "print(np.mean(data))"
   ]
  },
  {
   "cell_type": "code",
   "execution_count": null,
   "id": "cd9be5bd-75b2-4204-90aa-6adce9b9b673",
   "metadata": {},
   "outputs": [],
   "source": [
    "import h5py\n",
    "import matplotlib.pyplot as plt\n",
    "from mpl_toolkits.mplot3d import Axes3D\n",
    "\n",
    "file_path = dir_name + 'Bi200SimTriggered.h5'\n",
    "\n",
    "def plot_event(event_num):\n",
    "    with h5py.File(file_path, 'r') as file:\n",
    "        fig = plt.figure()\n",
    "        ax = fig.add_subplot(111, projection='3d')\n",
    "        \n",
    "        # Iterate through each event group in the file\n",
    "        event_key = f'Event_[{event_num}]'\n",
    "        \n",
    "        event_group = file[event_key]\n",
    "        \n",
    "        # Assuming 'HitArray' is the dataset name containing the hits\n",
    "        # Adjust the dataset name and indexing as per your data structure\n",
    "        if 'HitArray' in event_group:\n",
    "            hits = event_group['HitArray'][:]\n",
    "            print(f\"{event_key}: {len(hits)}\")           \n",
    "            x = [hit[0] for hit in hits]\n",
    "            y = [hit[1] for hit in hits]\n",
    "            z = [hit[2] for hit in hits]\n",
    "                        \n",
    "            ax.scatter(x, y, z, label=event_key)\n",
    "        \n",
    "        ax.set_xlabel('X')\n",
    "        ax.set_ylabel('Y')\n",
    "        ax.set_zlabel('Z')\n",
    "        # ax.view_init(90,-90)\n",
    "        plt.show()"
   ]
  },
  {
   "cell_type": "code",
   "execution_count": null,
   "id": "24499f59-304c-430d-8272-128e5855d3aa",
   "metadata": {},
   "outputs": [],
   "source": [
    "data_path ='fission_data/Fission_sim_sampled_size512.npy'\n",
    "data_sampled = np.load(data_path)\n",
    "visualize(data_sampled, 20, 2)"
   ]
  },
  {
   "cell_type": "code",
   "execution_count": null,
   "id": "8fd55001-198d-4937-9a78-3320373c6184",
   "metadata": {},
   "outputs": [],
   "source": []
  }
 ],
 "metadata": {
  "kernelspec": {
   "display_name": "Python 3 (ipykernel)",
   "language": "python",
   "name": "python3"
  },
  "language_info": {
   "codemirror_mode": {
    "name": "ipython",
    "version": 3
   },
   "file_extension": ".py",
   "mimetype": "text/x-python",
   "name": "python",
   "nbconvert_exporter": "python",
   "pygments_lexer": "ipython3",
   "version": "3.7.10"
  }
 },
 "nbformat": 4,
 "nbformat_minor": 5
}
